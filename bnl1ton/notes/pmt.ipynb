{
 "cells": [
  {
   "cell_type": "code",
   "execution_count": 2,
   "metadata": {
    "collapsed": true
   },
   "outputs": [],
   "source": [
    "import numpy as np\n",
    "import matplotlib\n",
    "import matplotlib.pyplot as plt\n",
    "import pandas as pd\n",
    "%matplotlib inline\n",
    "matplotlib.style.use('seaborn-whitegrid')"
   ]
  },
  {
   "cell_type": "markdown",
   "metadata": {},
   "source": [
    "# PMT Implemetation in RAT\n",
    "\n",
    "Apparently, default PMT properties are defined across a set of files under the `data` directory.\n",
    "\n",
    "As an example, the R11780 12'' high QE tubes are defined as follows:\n",
    "\n",
    "```javascript\n",
    "// == PMT.ratdb ==\n",
    "{\n",
    "name: \"PMT\",\n",
    "index: \"r11780_hqe\",\n",
    "valid_begin: [0,0],\n",
    "valid_end: [0,0],\n",
    "\n",
    "dynode_material: \"stainless_steel\",\n",
    "glass_material: \"glass\",\n",
    "pmt_vacuum_material: \"pmt_vacuum\",\n",
    "photocathode_surface: \"photocathode_R11780\",\n",
    "mirror_surface: \"mirror\",\n",
    "dynode_surface: \"stainless_steel\",\n",
    "\n",
    "dynode_radius: 41.5, // mm\n",
    "dynode_top: -46.0, // mm\n",
    "wall_thickness: 3.0, // mm\n",
    "\n",
    "z_edge:   [112.50, 79.59, 0.75, 0.00, -79.59, -119.79, -127.50, -285.0],\n",
    "rho_edge: [0.00, 108.87, 151.35, 151.50, 108.87, 66.48, 63.0, 63.0],\n",
    "z_origin: [-84.00, 0.00, 0.00, 0.00, 84.00, -127.5, -285.0],\n",
    "}\n",
    "```\n",
    "---\n",
    "\n",
    "```javascript\n",
    "// == OPTICS.ratdb ==\n",
    "{\n",
    "name: \"OPTICS\",\n",
    "index: \"photocathode_R11780\",\n",
    "valid_begin : [0, 0],\n",
    "valid_end : [0, 0],\n",
    "photocathode: 1,\n",
    "\n",
    "EFFICIENCY_option: \"wavelength\",\n",
    "EFFICIENCY_value1: [60.0, 200.0, 260.0, 270.0, 280.0, 285.0, 290.0, 300.0, 310.0, 330.0, 370.0, 420.0, 475.0, 500.0, 530.0, 570.0, 600.0, 630.0, 670.0, 700.0, 800.0, ],\n",
    "EFFICIENCY_value2: [0.0, 0.0, 0.0, 0.0078, 0.039, 0.078, 0.117, 0.1404, 0.156, 0.23, 0.3200, 0.295, 0.206, 0.1656, 0.1150, 0.047, 0.0195, 0.0078, 0.00078, 0.0, 0.0],\n",
    "\n",
    "RINDEX_option: \"wavelength\",\n",
    "RINDEX_value1: [60.0, 200.0, 380.0, 395.0, 410.0, 425.0, 440.0, 455.0, 470.0, 485.0, 500.0, 515.0, 530.0, 545.0, 560.0, 575.0, 590.0, 605.0, 620.0, 635.0, 650.0, 665.0, 680.0, 800.0, ],\n",
    "RINDEX_value2: [1.0, 1.0, 1.92, 2.18, 2.38, 2.61, 2.70, 2.87, 3.00, 3.00, 3.00, 3.09, 3.26, 3.20, 3.12, 3.06, 3.01, 2.98, 2.96, 2.95, 2.95, 2.95, 2.96, 3.0, ],\n",
    "\n",
    "KINDEX_option: \"wavelength\",\n",
    "KINDEX_value1: [60.0, 200.0, 380.0, 395.0, 410.0, 425.0, 440.0, 455.0, 470.0, 485.0, 500.0, 515.0, 530.0, 545.0, 560.0, 575.0, 590.0, 605.0, 620.0, 635.0, 650.0, 665.0, 680.0, 800.0, ],\n",
    "KINDEX_value2: [3.0, 3.0, 1.69, 1.69, 1.71, 1.53, 1.50, 1.44, 1.34, 1.11, 1.06, 1.05, 0.86, 0.63, 0.53, 0.46, 0.42, 0.38, 0.37, 0.35, 0.34, 0.34, 0.33, 0.1, ],\n",
    "\n",
    "THICKNESS_value1: [188.0, 0.0, ],\n",
    "THICKNESS_value2: [26e-6, 26e-6, ],\n",
    "PROPERTY_LIST: [\"EFFICIENCY\", \"RINDEX\", \"KINDEX\", \"THICKNESS\", ]\n",
    "}\n",
    "```\n",
    "---\n",
    "\n",
    "```javascript\n",
    "// == PMTCHARGE.ratdb ==\n",
    "{\n",
    "//default to r11780_hqe charge distribution\n",
    "name: \"PMTCHARGE\",\n",
    "index: \"r11780_hqe\",\n",
    "valid_begin: [0,0],\n",
    "valid_end: [0,0],\n",
    "\n",
    "//units of pC here, implementers can choose their own units\n",
    "charge: [0., 0.1, 0.2, 0.3, 0.4, 0.5, 0.6, 0.7, 0.8, 0.9, 1., 1.1, 1.2, 1.3, 1.4, 1.5, 1.6, 1.7, 1.8, 1.9, 2., 2.1, 2.2, 2.3, 2.4, 2.5, 2.6, 2.7, 2.8, 2.9, 3., 3.1, 3.2, 3.3, 3.4, 3.5, 3.6, 3.7, 3.8, 3.9, 4., 4.1, 4.2, 4.3, 4.4, 4.5, 4.6, 4.7, 4.8, 4.9, 5.],\n",
    "\n",
    "//this will be integrated and normalized\n",
    "//values based on a single gaussian fit to measured charge distribution of a single R11780-HQE PMT\n",
    "charge_prob: [0.603378, 0.849476, 1.16968, 1.57519, 2.0747, 2.67257, 3.3671, 4.14893, 5., 5.89327, 6.79355, 7.65931, 8.4457, 9.10825, 9.60699, 9.91044, 9.99889, 9.86651, 9.52201, 8.98767, 8.29695, 7.49105, 6.61486, 5.71283, 4.82542, 3.98632, 3.22079, 2.54511, 1.96699, 1.4868, 1.09914, 0.794714, 0.561979, 0.388671, 0.262904, 0.173927, 0.112535, 0.0712136, 0.0440748, 0.0266791, 0.0157945, 0.00914521, 0.00517886, 0.00286832, 0.00155373, 0.000823142, 0.000426509, 0.00021614, 0.000107126, 0.0000519286, 0.0000246191],\n",
    "}\n",
    "```\n",
    "\n",
    "---\n",
    "\n",
    "```javascript\n",
    "// == PMTTRANSIT.ratdb == \n",
    "{\n",
    "// Default is for zero cable delay, zero transit time\n",
    "// Placeholder for r11780_hqe data\n",
    "name: \"PMTTRANSIT\",\n",
    "index: \"r11780_hqe\", \n",
    "valid_begin : [0, 0],\n",
    "valid_end : [0, 0],\n",
    "cable_delay: 0.0,\n",
    "\n",
    "//need two points\n",
    "time: [ -0.001, 0.000, 0.001 ],\n",
    "//this will be integrated and normalized\n",
    "time_prob: [ 0.0, 1.0, 0.0 ]\n",
    "}\n",
    "```"
   ]
  },
  {
   "cell_type": "markdown",
   "metadata": {},
   "source": [
    "## R7723 Implemetation\n",
    "\n",
    "We use the [R7723](https://www.hamamatsu.com/resources/pdf/etd/R7723_R7724_R7725_TPMH1315E.pdf) 2'' PMTs from Hamamatsu\n",
    "\n",
    "Although it's probably a good idea to add R7723 into the default database files so that others can use in the future, for the sake of portable implementation I will add all new files (with the same name) under the `data/BNL1ton/` directory\n",
    "\n",
    "### PMT Geometry\n",
    "\n",
    "```javascript\n",
    "// -- PMT.ratdb --\n",
    "{\n",
    "name: \"PMT\",\n",
    "index: \"r7723\",\n",
    "valid_begin: [0,0],\n",
    "valid_end: [0,0],\n",
    "\n",
    "dynode_material: \"stainless_steel\",\n",
    "glass_material: \"glass\",\n",
    "pmt_vacuum_material: \"pmt_vacuum\", // dilute air\n",
    "photocathode_surface: \"photocathode_r7723\",\n",
    "mirror_surface: \"mirror\",\n",
    "dynode_surface: \"stainless_steel\",\n",
    "\n",
    "dynode_radius: 20.0, // mm guess\n",
    "dynode_top:   -30.0, // mm guess\n",
    "wall_thickness: 3.0, // mm guess\n",
    "\n",
    "z_edge:   [4.00, 1.00, 0.00, -16.75, -30.00, -32.00, -108.00], // total length is 112 mm, must have equator 0.0\n",
    "rho_edge: [26.00, 26.00, 26.00,  26.00, 26.00, 26.00, 26.00],  // glass 52 mm, cathod 46 mm\n",
    "z_origin: [-10000.00, 0.00, 0.00,  10000.00, 31.00, 0.00],  // must be len(z_edge) - 1\n",
    "}\n",
    "```\n",
    "\n",
    "\n",
    "### PMT Optics\n",
    "\n",
    "```javascript\n",
    "// -- OPTICS.ratdb\n",
    "{\n",
    "name: \"OPTICS\",\n",
    "index: \"photocathode_r7723\",\n",
    "valid_begin : [0, 0],\n",
    "valid_end : [0, 0],\n",
    "photocathode: 1,\n",
    "\n",
    "EFFICIENCY_option: \"wavelength\",\n",
    "EFFICIENCY_value1: [\n",
    "  60.00,  260.00,  262.10,  266.00,  269.90,  273.70,  276.80,  279.90,\n",
    "  283.80,  290.80,  297.70,  307.70,  323.90,  343.20,  363.90,  386.20,\n",
    "  406.20,  426.20,  448.50,  464.70,  482.30,  502.30,  519.20,  530.80,\n",
    "  540.00,  550.70,  560.70,  572.20,  586.00,  595.20,  605.20,  613.60,\n",
    "  620.50,  628.20,  635.90,  641.20,  655.80,  674.10,  684.00,  698.60,\n",
    "  700.00,  800.00],\n",
    "EFFICIENCY_value2: [\n",
    "  0.00,  0.00,  0.02,  0.03,  0.03,  0.04,  0.06,  0.07,  0.09,  0.12,\n",
    "  0.15,  0.18,  0.22,  0.24,  0.25,  0.25,  0.25,  0.24,  0.22,  0.20,\n",
    "  0.18,  0.15,  0.13,  0.11,  0.09,  0.07,  0.06,  0.05,  0.04,  0.03,\n",
    "  0.02,  0.02,  0.02,  0.01,  0.01,  0.01,  0.00,  0.00,  0.00,  0.00,\n",
    "  0.00,  0.00],\n",
    "\n",
    "RINDEX_option: \"wavelength\",\n",
    "RINDEX_value1: [60.0, 200.0, 380.0, 395.0, 410.0, 425.0, 440.0, 455.0, 470.0, 485.0, 500.0, 515.0, 530.0, 545.0, 560.0, 575.0, 590.0, 605.0, 620.0, 635.0, 650.0, 665.0, 680.0, 800.0, ],\n",
    "RINDEX_value2: [1.0, 1.0, 1.92, 2.18, 2.38, 2.61, 2.70, 2.87, 3.00, 3.00, 3.00, 3.09, 3.26, 3.20, 3.12, 3.06, 3.01, 2.98, 2.96, 2.95, 2.95, 2.95, 2.96, 3.0, ],\n",
    "\n",
    "KINDEX_option: \"wavelength\",\n",
    "KINDEX_value1: [60.0, 200.0, 380.0, 395.0, 410.0, 425.0, 440.0, 455.0, 470.0, 485.0, 500.0, 515.0, 530.0, 545.0, 560.0, 575.0, 590.0, 605.0, 620.0, 635.0, 650.0, 665.0, 680.0, 800.0, ],\n",
    "KINDEX_value2: [3.0, 3.0, 1.69, 1.69, 1.71, 1.53, 1.50, 1.44, 1.34, 1.11, 1.06, 1.05, 0.86, 0.63, 0.53, 0.46, 0.42, 0.38, 0.37, 0.35, 0.34, 0.34, 0.33, 0.1, ],\n",
    "\n",
    "THICKNESS_value1: [188.0, 0.0, ],\n",
    "THICKNESS_value2: [26e-6, 26e-6, ],\n",
    "PROPERTY_LIST: [\"EFFICIENCY\", \"RINDEX\", \"KINDEX\", \"THICKNESS\", ]\n",
    "}\n",
    "```"
   ]
  },
  {
   "cell_type": "markdown",
   "metadata": {},
   "source": [
    "#### Let's plot the quantum efficiency"
   ]
  },
  {
   "cell_type": "code",
   "execution_count": 8,
   "metadata": {
    "collapsed": false
   },
   "outputs": [
    {
     "data": {
      "text/plain": [
       "<matplotlib.text.Text at 0x7f331feb6f10>"
      ]
     },
     "execution_count": 8,
     "metadata": {},
     "output_type": "execute_result"
    },
    {
     "data": {
      "image/png": "[encoded data removed]",
      "text/plain": [
       "<matplotlib.figure.Figure at 0x7f33201de410>"
      ]
     },
     "metadata": {},
     "output_type": "display_data"
    }
   ],
   "source": [
    "qe = pd.read_csv('data/qe_r7723.csv', index_col='wavelength')['efficiency'] / 100\n",
    "\n",
    "plt.figure(); \n",
    "ax = qe.plot()\n",
    "ax.set_xlabel('Wavelength [nm]')\n",
    "ax.set_ylabel('Quantum Efficiency')"
   ]
  },
  {
   "cell_type": "markdown",
   "metadata": {},
   "source": [
    "#### Print the data so that we can copy and paste to the .ratdb file"
   ]
  },
  {
   "cell_type": "code",
   "execution_count": 9,
   "metadata": {
    "collapsed": false
   },
   "outputs": [
    {
     "name": "stdout",
     "output_type": "stream",
     "text": [
      "[ 60.00,  260.00,  262.10,  266.00,  269.90,  273.70,  276.80,  279.90,\n",
      "  283.80,  290.80,  297.70,  307.70,  323.90,  343.20,  363.90,  386.20,\n",
      "  406.20,  426.20,  448.50,  464.70,  482.30,  502.30,  519.20,  530.80,\n",
      "  540.00,  550.70,  560.70,  572.20,  586.00,  595.20,  605.20,  613.60,\n",
      "  620.50,  628.20,  635.90,  641.20,  655.80,  674.10,  684.00,  698.60,\n",
      "  700.00,  800.00,]\n",
      "[ 0.00,  0.00,  0.02,  0.03,  0.03,  0.04,  0.06,  0.07,  0.09,  0.12,\n",
      "  0.15,  0.18,  0.22,  0.24,  0.25,  0.25,  0.25,  0.24,  0.22,  0.20,\n",
      "  0.18,  0.15,  0.13,  0.11,  0.09,  0.07,  0.06,  0.05,  0.04,  0.03,\n",
      "  0.02,  0.02,  0.02,  0.01,  0.01,  0.01,  0.00,  0.00,  0.00,  0.00,\n",
      "  0.00,  0.00,]\n"
     ]
    }
   ],
   "source": [
    "np.set_printoptions(formatter={'float': '{: 0.2f},'.format})\n",
    "print(np.round(qe.index.values, 1))\n",
    "print(np.round(qe.values, 2))"
   ]
  },
  {
   "cell_type": "markdown",
   "metadata": {},
   "source": [
    "#### For `RINDEX` and `KINDEX` (real and imaginary part of index of refraction), we copied them over from the default R5912 pmt"
   ]
  },
  {
   "cell_type": "code",
   "execution_count": 15,
   "metadata": {
    "collapsed": false
   },
   "outputs": [
    {
     "data": {
      "text/plain": [
       "<matplotlib.text.Text at 0x7f331f8bd410>"
      ]
     },
     "execution_count": 15,
     "metadata": {},
     "output_type": "execute_result"
    },
    {
     "data": {
      "text/plain": [
       "<matplotlib.figure.Figure at 0x7f331f8e9f90>"
      ]
     },
     "metadata": {},
     "output_type": "display_data"
    },
    {
     "data": {
      "image/png": "[encoded data removed]",
      "text/plain": [
       "<matplotlib.figure.Figure at 0x7f331fc22490>"
      ]
     },
     "metadata": {},
     "output_type": "display_data"
    }
   ],
   "source": [
    "x = {\n",
    "    'wavelength': [60.0, 200.0, 380.0, 395.0, 410.0, 425.0, 440.0, 455.0, 470.0, 485.0, 500.0, 515.0, 530.0, 545.0, 560.0, 575.0, 590.0, 605.0, 620.0, 635.0, 650.0, 665.0, 680.0, 800.0, ],\n",
    "    'real': [1.0, 1.0, 1.92, 2.18, 2.38, 2.61, 2.70, 2.87, 3.00, 3.00, 3.00, 3.09, 3.26, 3.20, 3.12, 3.06, 3.01, 2.98, 2.96, 2.95, 2.95, 2.95, 2.96, 3.0, ],\n",
    "    'imag': [3.0, 3.0, 1.69, 1.69, 1.71, 1.53, 1.50, 1.44, 1.34, 1.11, 1.06, 1.05, 0.86, 0.63, 0.53, 0.46, 0.42, 0.38, 0.37, 0.35, 0.34, 0.34, 0.33, 0.1, ],\n",
    "}\n",
    "rk = pd.DataFrame(data=x)\n",
    "rk = rk.set_index('wavelength')\n",
    "\n",
    "plt.figure(); \n",
    "ax = rk.plot()\n",
    "ax.set_xlabel('Wavelength [nm]')\n",
    "ax.set_ylabel('Index of refraction')\n"
   ]
  },
  {
   "cell_type": "markdown",
   "metadata": {},
   "source": [
    "## PMT Charge and Transit Time Simulation\n",
    "\n",
    "```javascript\n",
    "//PMTCHARGE.ratdb\n",
    "{\n",
    "name: \"PMTCHARGE\",\n",
    "index: \"r7723\",\n",
    "valid_begin: [0,0],\n",
    "valid_end: [0,0],\n",
    "\n",
    "//units of pC here, implementers can choose their own units\n",
    "charge: [0., 0.1, 0.2, 0.3, 0.4, 0.5, 0.6, 0.7, 0.8, 0.9, 1., 1.1, 1.2, 1.3, 1.4, 1.5, 1.6, 1.7, 1.8, 1.9, 2., 2.1, 2.2, 2.3, 2.4, 2.5, 2.6, 2.7, 2.8, 2.9, 3., 3.1, 3.2, 3.3, 3.4, 3.5, 3.6, 3.7, 3.8, 3.9, 4., 4.1, 4.2, 4.3, 4.4, 4.5, 4.6, 4.7, 4.8, 4.9, 5.],\n",
    "\n",
    "//this will be integrated and normalized\n",
    "//values based on a single gaussian fit to measured charge distribution of a single R11780-HQE PMT\n",
    "charge_prob: [0.603378, 0.849476, 1.16968, 1.57519, 2.0747, 2.67257, 3.3671, 4.14893, 5., 5.89327, 6.79355, 7.65931, 8.4457, 9.10825, 9.60699, 9.91044, 9.99889, 9.86651, 9.52201, 8.98767, 8.29695, 7.49105, 6.61486, 5.71283, 4.82542, 3.98632, 3.22079, 2.54511, 1.96699, 1.4868, 1.09914, 0.794714, 0.561979, 0.388671, 0.262904, 0.173927, 0.112535, 0.0712136, 0.0440748, 0.0266791, 0.0157945, 0.00914521, 0.00517886, 0.00286832, 0.00155373, 0.000823142, 0.000426509, 0.00021614, 0.000107126, 0.0000519286, 0.0000246191],\n",
    "}\n",
    "```\n",
    "\n",
    "---\n",
    "```javascript\n",
    "//PMTTRANSIT.ratdb\n",
    "{\n",
    "// Placeholder for r7723 data\n",
    "name: \"PMTTRANSIT\",\n",
    "index: \"r7723\",\n",
    "valid_begin : [0, 0],\n",
    "valid_end : [0, 0],\n",
    "cable_delay: 0.0,\n",
    "\n",
    "//need two points\n",
    "time: [ -0.001, 0.000, 0.001 ],\n",
    "//this will be integrated and normalized\n",
    "time_prob: [ 0.0, 1.0, 0.0 ]\n",
    "}\n",
    "```\n",
    "\n",
    "These are copied over from the default r11780_hqe charge distribution. \n",
    "Read [here](https://github.com/rat-pac/rat-pac/blob/a3d8c27542500299da8e02b405aad1c6f0d94fb0/doc/pmt.rst) for descriptions \n",
    "#### Let's plot them\n"
   ]
  },
  {
   "cell_type": "code",
   "execution_count": 17,
   "metadata": {
    "collapsed": false
   },
   "outputs": [
    {
     "data": {
      "text/plain": [
       "<matplotlib.text.Text at 0x7f331f769710>"
      ]
     },
     "execution_count": 17,
     "metadata": {},
     "output_type": "execute_result"
    },
    {
     "data": {
      "text/plain": [
       "<matplotlib.figure.Figure at 0x7f331fe587d0>"
      ]
     },
     "metadata": {},
     "output_type": "display_data"
    },
    {
     "data": {
      "image/png": "[encoded data removed]",
      "text/plain": [
       "<matplotlib.figure.Figure at 0x7f331f8e9990>"
      ]
     },
     "metadata": {},
     "output_type": "display_data"
    }
   ],
   "source": [
    "x = {\n",
    "    'charge': [0., 0.1, 0.2, 0.3, 0.4, 0.5, 0.6, 0.7, 0.8, 0.9, 1., 1.1, 1.2, 1.3, 1.4, 1.5, 1.6, 1.7, 1.8, 1.9, 2., 2.1, 2.2, 2.3, 2.4, 2.5, 2.6, 2.7, 2.8, 2.9, 3., 3.1, 3.2, 3.3, 3.4, 3.5, 3.6, 3.7, 3.8, 3.9, 4., 4.1, 4.2, 4.3, 4.4, 4.5, 4.6, 4.7, 4.8, 4.9, 5.],\n",
    "    'charge_prob': [0.603378, 0.849476, 1.16968, 1.57519, 2.0747, 2.67257, 3.3671, 4.14893, 5., 5.89327, 6.79355, 7.65931, 8.4457, 9.10825, 9.60699, 9.91044, 9.99889, 9.86651, 9.52201, 8.98767, 8.29695, 7.49105, 6.61486, 5.71283, 4.82542, 3.98632, 3.22079, 2.54511, 1.96699, 1.4868, 1.09914, 0.794714, 0.561979, 0.388671, 0.262904, 0.173927, 0.112535, 0.0712136, 0.0440748, 0.0266791, 0.0157945, 0.00914521, 0.00517886, 0.00286832, 0.00155373, 0.000823142, 0.000426509, 0.00021614, 0.000107126, 0.0000519286, 0.0000246191],\n",
    "}\n",
    "charge = pd.DataFrame(data=x)\n",
    "charge = charge.set_index('charge')\n",
    "\n",
    "plt.figure(); \n",
    "ax = charge.plot()\n",
    "ax.set_xlabel('charge')\n",
    "ax.set_ylabel('charge_prob')"
   ]
  },
  {
   "cell_type": "markdown",
   "metadata": {},
   "source": [
    "*why is it not peaked at 1 PE?* I suppose here charge is not calibrated (can be ADC*time, for example)"
   ]
  },
  {
   "cell_type": "markdown",
   "metadata": {},
   "source": [
    "## That's all!"
   ]
  },
  {
   "cell_type": "code",
   "execution_count": null,
   "metadata": {
    "collapsed": true
   },
   "outputs": [],
   "source": []
  }
 ],
 "metadata": {
  "kernelspec": {
   "display_name": "Python 2",
   "language": "python",
   "name": "python2"
  },
  "language_info": {
   "codemirror_mode": {
    "name": "ipython",
    "version": 2
   },
   "file_extension": ".py",
   "mimetype": "text/x-python",
   "name": "python",
   "nbconvert_exporter": "python",
   "pygments_lexer": "ipython2",
   "version": "2.7.11"
  }
 },
 "nbformat": 4,
 "nbformat_minor": 0
}
